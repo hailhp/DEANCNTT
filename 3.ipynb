{
 "cells": [
  {
   "cell_type": "code",
   "execution_count": 71,
   "metadata": {},
   "outputs": [
    {
     "name": "stdout",
     "output_type": "stream",
     "text": [
      "Accuracy: 0.8256410256410256\n",
      "Confusion Matrix:\n",
      " [[422 136]\n",
      " [  0 222]]\n",
      "Classification Report:\n",
      "               precision    recall  f1-score   support\n",
      "\n",
      "           0       1.00      0.76      0.86       558\n",
      "           1       0.62      1.00      0.77       222\n",
      "\n",
      "    accuracy                           0.83       780\n",
      "   macro avg       0.81      0.88      0.81       780\n",
      "weighted avg       0.89      0.83      0.83       780\n",
      "\n",
      "Predictions for new data: [0 0]\n"
     ]
    }
   ],
   "source": [
    "import pandas as pd\n",
    "import numpy as np\n",
    "from sklearn.model_selection import train_test_split\n",
    "from sklearn.preprocessing import LabelEncoder\n",
    "from sklearn.linear_model import LogisticRegression\n",
    "from sklearn.ensemble import RandomForestClassifier\n",
    "from sklearn.metrics import confusion_matrix, classification_report, accuracy_score\n",
    "from sklearn.model_selection import GridSearchCV\n",
    "\n",
    "# 1. Đọc dữ liệu\n",
    "data = pd.read_csv('shopping_trends.csv')\n",
    "\n",
    "# 2. Tiền xử lý\n",
    "data['Gender'] = LabelEncoder().fit_transform(data['Gender'])\n",
    "data['Discount Applied'] = LabelEncoder().fit_transform(data['Discount Applied'])\n",
    "data['Promo Code Used'] = LabelEncoder().fit_transform(data['Promo Code Used'])\n",
    "\n",
    "# 3. Chia dữ liệu\n",
    "X = data[['Age', 'Gender', 'Discount Applied', 'Promo Code Used']]\n",
    "y = data['Subscription Status'].apply(lambda x: 1 if x == 'Yes' else 0)\n",
    "\n",
    "X_train, X_test, y_train, y_test = train_test_split(X, y, test_size=0.2, random_state=42)\n",
    "\n",
    "# 4. Xây dựng mô hình hồi quy logistic\n",
    "log_model = LogisticRegression(max_iter=1000)\n",
    "log_model.fit(X_train, y_train)\n",
    "\n",
    "# 5. Dự đoán và đánh giá\n",
    "y_pred = log_model.predict(X_test)\n",
    "\n",
    "print(\"Accuracy:\", accuracy_score(y_test, y_pred))\n",
    "print(\"Confusion Matrix:\\n\", confusion_matrix(y_test, y_pred))\n",
    "print(\"Classification Report:\\n\", classification_report(y_test, y_pred))\n",
    "\n",
    "# 6. Dự đoán trên dữ liệu mới\n",
    "new_data = pd.DataFrame({'Age': [30, 25], 'Gender': [0, 1], 'Discount Applied': [1, 0], 'Promo Code Used': [1, 0]})\n",
    "future_predictions = log_model.predict(new_data)\n",
    "print(\"Predictions for new data:\", future_predictions)\n"
   ]
  },
  {
   "cell_type": "markdown",
   "metadata": {},
   "source": [
    "-> \n",
    "Kết quả của bạn cho thấy mô hình hồi quy logistic hoạt động khá tốt, với độ chính xác (accuracy) là **82.56%**. Dưới đây là phân tích chi tiết về các chỉ số:\n",
    "\n",
    "### Phân Tích Kết Quả\n",
    "1. **Độ Chính Xác (Accuracy)**: \n",
    "   - **82.56%**: Đây là tỷ lệ dự đoán đúng tổng số dự đoán. \n",
    "\n",
    "2. **Confusion Matrix**:\n",
    "   - \\[\n",
    "   \\begin{array}{cc|c}\n",
    "         & \\text{Predicted 0} & \\text{Predicted 1} \\\\\n",
    "   \\hline\n",
    "   \\text{Actual 0} & 422 & 136 \\\\\n",
    "   \\text{Actual 1} & 0 & 222 \\\\\n",
    "   \\end{array}\n",
    "   \\]\n",
    "   - **Số lượng dự đoán đúng cho lớp 0 (Không đăng ký)** là 422, nhưng có 136 dự đoán sai thành lớp 1 (Đăng ký).\n",
    "   - **Số lượng dự đoán đúng cho lớp 1 (Đăng ký)** là 222, không có sai sót nào.\n",
    "\n",
    "3. **Báo cáo Phân Loại (Classification Report)**:\n",
    "   - **Precision** cho lớp 0 (Không đăng ký) là **1.00**, điều này có nghĩa là tất cả các dự đoán là chính xác.\n",
    "   - **Recall** cho lớp 1 (Đăng ký) là **1.00**, cho thấy mô hình nhận diện tất cả các trường hợp thực tế trong lớp 1.\n",
    "   - **F1-score** cho lớp 0 là **0.86** và cho lớp 1 là **0.77**, cho thấy mô hình có độ chính xác tốt cho cả hai lớp.\n",
    "\n",
    "4. **Dự Đoán Trên Dữ Liệu Mới**:\n",
    "   - Kết quả dự đoán cho dữ liệu mới là **[0 0]**, có nghĩa là cả hai mẫu dự đoán đều không đăng ký.\n",
    "\n",
    "### Các Đề Xuất Tiếp Theo\n",
    "- **Xem Xét Mô Hình Khác**: Bạn có thể thử nghiệm thêm với các mô hình khác như Random Forest hoặc Gradient Boosting để xem liệu có cải thiện được độ chính xác hay không.\n",
    "- **Tuning Tham Số**: Dùng GridSearchCV để tối ưu hóa các tham số của mô hình logistic hồi quy, hoặc mô hình khác mà bạn chọn.\n",
    "- **Khám Phá Dữ Liệu**: Phân tích thêm các đặc điểm của tập dữ liệu (như Age, Gender) để tìm hiểu sâu hơn về các yếu tố ảnh hưởng đến việc đăng ký.\n",
    "- **Xem Xét Kết Quả Dự Đoán**: Cố gắng phân tích lý do tại sao một số mẫu dự đoán sai để cải thiện mô hình trong tương lai.\n",
    "\n",
    "Nếu bạn cần hỗ trợ thêm về các khía cạnh cụ thể hoặc muốn triển khai một mô hình khác, hãy cho tôi biết!"
   ]
  }
 ],
 "metadata": {
  "kernelspec": {
   "display_name": "base",
   "language": "python",
   "name": "python3"
  },
  "language_info": {
   "codemirror_mode": {
    "name": "ipython",
    "version": 3
   },
   "file_extension": ".py",
   "mimetype": "text/x-python",
   "name": "python",
   "nbconvert_exporter": "python",
   "pygments_lexer": "ipython3",
   "version": "3.12.4"
  }
 },
 "nbformat": 4,
 "nbformat_minor": 2
}
